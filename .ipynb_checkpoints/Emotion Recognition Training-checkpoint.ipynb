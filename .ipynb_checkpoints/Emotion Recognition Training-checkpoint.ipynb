{
 "cells": [
  {
   "cell_type": "markdown",
   "id": "501b0a96",
   "metadata": {},
   "source": [
    "##                      FACIAL EMOTION RECOGNITION USING DEEP LEARNING"
   ]
  },
  {
   "cell_type": "markdown",
   "id": "5a17c31f",
   "metadata": {},
   "source": [
    "  "
   ]
  },
  {
   "cell_type": "markdown",
   "id": "5b1f4a19",
   "metadata": {},
   "source": [
    "## Import required packages"
   ]
  },
  {
   "cell_type": "code",
   "execution_count": 2,
   "id": "e3b96d71",
   "metadata": {},
   "outputs": [],
   "source": [
    "import cv2\n",
    "from keras.models import Sequential\n",
    "from keras.layers import Conv2D, MaxPooling2D, Dense, Dropout, Flatten\n",
    "from keras.optimizers import Adam\n",
    "from tensorflow.keras.preprocessing.image import ImageDataGenerator\n"
   ]
  },
  {
   "cell_type": "markdown",
   "id": "af65a58f",
   "metadata": {},
   "source": [
    "## Initialize image data generator with rescaling"
   ]
  },
  {
   "cell_type": "code",
   "execution_count": 3,
   "id": "ef344e23",
   "metadata": {},
   "outputs": [],
   "source": [
    "train_data_gen = ImageDataGenerator(rescale=1./255)\n",
    "validation_data_gen = ImageDataGenerator(rescale=1./255)"
   ]
  },
  {
   "cell_type": "markdown",
   "id": "32af0ca9",
   "metadata": {},
   "source": [
    "## Train Dataset Details"
   ]
  },
  {
   "cell_type": "code",
   "execution_count": 4,
   "id": "99231693",
   "metadata": {},
   "outputs": [
    {
     "name": "stdout",
     "output_type": "stream",
     "text": [
      "1. angry\n",
      "2. disgust\n",
      "3. fear\n",
      "4. happy\n",
      "5. neutral\n",
      "6. sad\n",
      "7. surprise\n"
     ]
    }
   ],
   "source": [
    "import os\n",
    "data=\"E:\\\\SURGE CLASSES\\\\Emotion Detection\\\\train\"\n",
    "i=1\n",
    "l=[]\n",
    "for category in os.listdir(data):\n",
    "    if os.path.isdir(os.path.join(data,category)):\n",
    "        l.append(category)\n",
    "        print(i,'. ',category,sep='')\n",
    "        i+=1"
   ]
  },
  {
   "cell_type": "markdown",
   "id": "6a84f05a",
   "metadata": {},
   "source": [
    "## Preprocess all train images"
   ]
  },
  {
   "cell_type": "code",
   "execution_count": 5,
   "id": "23936af8",
   "metadata": {},
   "outputs": [
    {
     "name": "stdout",
     "output_type": "stream",
     "text": [
      "Found 28709 images belonging to 7 classes.\n"
     ]
    }
   ],
   "source": [
    "train_generator = train_data_gen.flow_from_directory(\n",
    "        \"E:\\\\SURGE CLASSES\\\\Emotion Detection\\\\train\",\n",
    "        target_size=(48, 48),\n",
    "        batch_size=64,                 # 449 batches\n",
    "        color_mode=\"grayscale\",\n",
    "        class_mode='categorical',      # [0,0,0,1,0,0,0]\n",
    "        shuffle=False)\n"
   ]
  },
  {
   "cell_type": "markdown",
   "id": "6ec1c4fb",
   "metadata": {},
   "source": [
    "## Sample Images in Train Dataset"
   ]
  },
  {
   "cell_type": "code",
   "execution_count": 6,
   "id": "06d0c4e4",
   "metadata": {},
   "outputs": [
    {
     "data": {
      "image/png": "[encoded data removed]",
      "text/plain": [
       "<Figure size 432x288 with 1 Axes>"
      ]
     },
     "metadata": {
      "needs_background": "light"
     },
     "output_type": "display_data"
    },
    {
     "name": "stdout",
     "output_type": "stream",
     "text": [
      "Output Labels : [0. 0. 0. 1. 0. 0. 0.] \n",
      "\n",
      "Output : happy\n"
     ]
    }
   ],
   "source": [
    "import matplotlib.pyplot as plt\n",
    "import numpy as np\n",
    "\n",
    "# Get the next image batch (in this case, just one image)\n",
    "images, labels = train_generator[234]      # 449 batches\n",
    "\n",
    "# Access the image and its corresponding label\n",
    "image = images[49]      # 64 images\n",
    "label = labels[49]      # 64 labels\n",
    " \n",
    "# 449 * 64 = 28736\n",
    "\n",
    "# Display the random image from dataset\n",
    "plt.imshow(image)\n",
    "plt.axis('off')\n",
    "plt.show()\n",
    "print('Output Labels :',label,\"\\n\")\n",
    "print('Output :',l[np.where(label==1)[0][0]])\n"
   ]
  },
  {
   "cell_type": "markdown",
   "id": "ec03be1d",
   "metadata": {},
   "source": [
    "## Test Dataset Details"
   ]
  },
  {
   "cell_type": "code",
   "execution_count": 7,
   "id": "319e5f2f",
   "metadata": {},
   "outputs": [
    {
     "name": "stdout",
     "output_type": "stream",
     "text": [
      "1. angry\n",
      "2. disgust\n",
      "3. fear\n",
      "4. happy\n",
      "5. neutral\n",
      "6. sad\n",
      "7. surprise\n"
     ]
    }
   ],
   "source": [
    "import os\n",
    "data=\"E:\\\\SURGE CLASSES\\\\Emotion Detection\\\\test\"\n",
    "i=1\n",
    "for category in os.listdir(data):\n",
    "    if os.path.isdir(os.path.join(data,category)):\n",
    "        print(i,'. ',category,sep='')\n",
    "        i+=1"
   ]
  },
  {
   "cell_type": "markdown",
   "id": "a056979b",
   "metadata": {},
   "source": [
    "## Preprocess all test images"
   ]
  },
  {
   "cell_type": "code",
   "execution_count": 8,
   "id": "c4101195",
   "metadata": {},
   "outputs": [
    {
     "name": "stdout",
     "output_type": "stream",
     "text": [
      "Found 7178 images belonging to 7 classes.\n"
     ]
    }
   ],
   "source": [
    "validation_generator = validation_data_gen.flow_from_directory(\n",
    "        \"E:\\\\SURGE CLASSES\\\\Emotion Detection\\\\test\",\n",
    "        target_size=(48, 48),\n",
    "        batch_size=64,\n",
    "        color_mode=\"grayscale\",\n",
    "        class_mode='categorical',\n",
    "        shuffle='False')\n"
   ]
  },
  {
   "cell_type": "markdown",
   "id": "6282497b",
   "metadata": {},
   "source": [
    "## Sample Images in Test Dataset"
   ]
  },
  {
   "cell_type": "code",
   "execution_count": 9,
   "id": "f0f3287c",
   "metadata": {},
   "outputs": [
    {
     "data": {
      "image/png": "[encoded data removed]",
      "text/plain": [
       "<Figure size 432x288 with 1 Axes>"
      ]
     },
     "metadata": {
      "needs_background": "light"
     },
     "output_type": "display_data"
    },
    {
     "name": "stdout",
     "output_type": "stream",
     "text": [
      "Output Labels : [1. 0. 0. 0. 0. 0. 0.] \n",
      "\n",
      "Output : angry\n"
     ]
    }
   ],
   "source": [
    "import matplotlib.pyplot as plt\n",
    "import numpy as np\n",
    "\n",
    "# Get the next image batch (in this case, just one image)\n",
    "images, labels = validation_generator[87]      # 113 batches\n",
    "\n",
    "# Access the image and its corresponding label\n",
    "image = images[49]      # 64 images\n",
    "label = labels[49]      # 64 labels\n",
    " \n",
    "# 113 * 64 = 7232\n",
    "\n",
    "# Display the random image from dataset\n",
    "plt.imshow(image)\n",
    "plt.axis('off')\n",
    "plt.show()\n",
    "print('Output Labels :',label,\"\\n\")\n",
    "print('Output :',l[np.where(label==1)[0][0]])\n"
   ]
  },
  {
   "cell_type": "code",
   "execution_count": null,
   "id": "13b43cfa",
   "metadata": {},
   "outputs": [],
   "source": []
  },
  {
   "cell_type": "markdown",
   "id": "985a9f55",
   "metadata": {},
   "source": [
    "## Create model structure"
   ]
  },
  {
   "cell_type": "code",
   "execution_count": 10,
   "id": "f5cc37ee",
   "metadata": {},
   "outputs": [
    {
     "name": "stderr",
     "output_type": "stream",
     "text": [
      "C:\\Users\\UDAY\\AppData\\Roaming\\Python\\Python39\\site-packages\\keras\\src\\layers\\convolutional\\base_conv.py:107: UserWarning: Do not pass an `input_shape`/`input_dim` argument to a layer. When using Sequential models, prefer using an `Input(shape)` object as the first layer in the model instead.\n",
      "  super().__init__(activity_regularizer=activity_regularizer, **kwargs)\n",
      "C:\\Users\\UDAY\\AppData\\Roaming\\Python\\Python39\\site-packages\\keras\\src\\optimizers\\base_optimizer.py:86: UserWarning: Argument `decay` is no longer supported and will be ignored.\n",
      "  warnings.warn(\n"
     ]
    },
    {
     "ename": "ValueError",
     "evalue": "Argument(s) not recognized: {'lr': 0.0001}",
     "output_type": "error",
     "traceback": [
      "\u001b[1;31m---------------------------------------------------------------------------\u001b[0m",
      "\u001b[1;31mValueError\u001b[0m                                Traceback (most recent call last)",
      "\u001b[1;32m~\\AppData\\Local\\Temp/ipykernel_2704/2941669722.py\u001b[0m in \u001b[0;36m<module>\u001b[1;34m\u001b[0m\n\u001b[0;32m     19\u001b[0m \u001b[1;31m#cv2.ocl.setUseOpenCL(False)\u001b[0m\u001b[1;33m\u001b[0m\u001b[1;33m\u001b[0m\u001b[0m\n\u001b[0;32m     20\u001b[0m \u001b[1;33m\u001b[0m\u001b[0m\n\u001b[1;32m---> 21\u001b[1;33m \u001b[0memotion_model\u001b[0m\u001b[1;33m.\u001b[0m\u001b[0mcompile\u001b[0m\u001b[1;33m(\u001b[0m\u001b[0mloss\u001b[0m\u001b[1;33m=\u001b[0m\u001b[1;34m'categorical_crossentropy'\u001b[0m\u001b[1;33m,\u001b[0m \u001b[0moptimizer\u001b[0m\u001b[1;33m=\u001b[0m\u001b[0mAdam\u001b[0m\u001b[1;33m(\u001b[0m\u001b[0mlr\u001b[0m\u001b[1;33m=\u001b[0m\u001b[1;36m0.0001\u001b[0m\u001b[1;33m,\u001b[0m \u001b[0mdecay\u001b[0m\u001b[1;33m=\u001b[0m\u001b[1;36m1e-6\u001b[0m\u001b[1;33m)\u001b[0m\u001b[1;33m,\u001b[0m \u001b[0mmetrics\u001b[0m\u001b[1;33m=\u001b[0m\u001b[1;33m[\u001b[0m\u001b[1;34m'accuracy'\u001b[0m\u001b[1;33m]\u001b[0m\u001b[1;33m)\u001b[0m\u001b[1;33m\u001b[0m\u001b[1;33m\u001b[0m\u001b[0m\n\u001b[0m",
      "\u001b[1;32m~\\AppData\\Roaming\\Python\\Python39\\site-packages\\keras\\src\\optimizers\\adam.py\u001b[0m in \u001b[0;36m__init__\u001b[1;34m(self, learning_rate, beta_1, beta_2, epsilon, amsgrad, weight_decay, clipnorm, clipvalue, global_clipnorm, use_ema, ema_momentum, ema_overwrite_frequency, loss_scale_factor, gradient_accumulation_steps, name, **kwargs)\u001b[0m\n\u001b[0;32m     60\u001b[0m         \u001b[1;33m**\u001b[0m\u001b[0mkwargs\u001b[0m\u001b[1;33m,\u001b[0m\u001b[1;33m\u001b[0m\u001b[1;33m\u001b[0m\u001b[0m\n\u001b[0;32m     61\u001b[0m     ):\n\u001b[1;32m---> 62\u001b[1;33m         super().__init__(\n\u001b[0m\u001b[0;32m     63\u001b[0m             \u001b[0mlearning_rate\u001b[0m\u001b[1;33m=\u001b[0m\u001b[0mlearning_rate\u001b[0m\u001b[1;33m,\u001b[0m\u001b[1;33m\u001b[0m\u001b[1;33m\u001b[0m\u001b[0m\n\u001b[0;32m     64\u001b[0m             \u001b[0mname\u001b[0m\u001b[1;33m=\u001b[0m\u001b[0mname\u001b[0m\u001b[1;33m,\u001b[0m\u001b[1;33m\u001b[0m\u001b[1;33m\u001b[0m\u001b[0m\n",
      "\u001b[1;32m~\\AppData\\Roaming\\Python\\Python39\\site-packages\\keras\\src\\backend\\tensorflow\\optimizer.py\u001b[0m in \u001b[0;36m__init__\u001b[1;34m(self, *args, **kwargs)\u001b[0m\n\u001b[0;32m     19\u001b[0m \u001b[1;32mclass\u001b[0m \u001b[0mTFOptimizer\u001b[0m\u001b[1;33m(\u001b[0m\u001b[0mKerasAutoTrackable\u001b[0m\u001b[1;33m,\u001b[0m \u001b[0mbase_optimizer\u001b[0m\u001b[1;33m.\u001b[0m\u001b[0mBaseOptimizer\u001b[0m\u001b[1;33m)\u001b[0m\u001b[1;33m:\u001b[0m\u001b[1;33m\u001b[0m\u001b[1;33m\u001b[0m\u001b[0m\n\u001b[0;32m     20\u001b[0m     \u001b[1;32mdef\u001b[0m \u001b[0m__init__\u001b[0m\u001b[1;33m(\u001b[0m\u001b[0mself\u001b[0m\u001b[1;33m,\u001b[0m \u001b[1;33m*\u001b[0m\u001b[0margs\u001b[0m\u001b[1;33m,\u001b[0m \u001b[1;33m**\u001b[0m\u001b[0mkwargs\u001b[0m\u001b[1;33m)\u001b[0m\u001b[1;33m:\u001b[0m\u001b[1;33m\u001b[0m\u001b[1;33m\u001b[0m\u001b[0m\n\u001b[1;32m---> 21\u001b[1;33m         \u001b[0msuper\u001b[0m\u001b[1;33m(\u001b[0m\u001b[1;33m)\u001b[0m\u001b[1;33m.\u001b[0m\u001b[0m__init__\u001b[0m\u001b[1;33m(\u001b[0m\u001b[1;33m*\u001b[0m\u001b[0margs\u001b[0m\u001b[1;33m,\u001b[0m \u001b[1;33m**\u001b[0m\u001b[0mkwargs\u001b[0m\u001b[1;33m)\u001b[0m\u001b[1;33m\u001b[0m\u001b[1;33m\u001b[0m\u001b[0m\n\u001b[0m\u001b[0;32m     22\u001b[0m         \u001b[0mself\u001b[0m\u001b[1;33m.\u001b[0m\u001b[0m_distribution_strategy\u001b[0m \u001b[1;33m=\u001b[0m \u001b[0mtf\u001b[0m\u001b[1;33m.\u001b[0m\u001b[0mdistribute\u001b[0m\u001b[1;33m.\u001b[0m\u001b[0mget_strategy\u001b[0m\u001b[1;33m(\u001b[0m\u001b[1;33m)\u001b[0m\u001b[1;33m\u001b[0m\u001b[1;33m\u001b[0m\u001b[0m\n\u001b[0;32m     23\u001b[0m \u001b[1;33m\u001b[0m\u001b[0m\n",
      "\u001b[1;32m~\\AppData\\Roaming\\Python\\Python39\\site-packages\\keras\\src\\optimizers\\base_optimizer.py\u001b[0m in \u001b[0;36m__init__\u001b[1;34m(self, learning_rate, weight_decay, clipnorm, clipvalue, global_clipnorm, use_ema, ema_momentum, ema_overwrite_frequency, loss_scale_factor, gradient_accumulation_steps, name, **kwargs)\u001b[0m\n\u001b[0;32m     88\u001b[0m             )\n\u001b[0;32m     89\u001b[0m         \u001b[1;32mif\u001b[0m \u001b[0mkwargs\u001b[0m\u001b[1;33m:\u001b[0m\u001b[1;33m\u001b[0m\u001b[1;33m\u001b[0m\u001b[0m\n\u001b[1;32m---> 90\u001b[1;33m             \u001b[1;32mraise\u001b[0m \u001b[0mValueError\u001b[0m\u001b[1;33m(\u001b[0m\u001b[1;34mf\"Argument(s) not recognized: {kwargs}\"\u001b[0m\u001b[1;33m)\u001b[0m\u001b[1;33m\u001b[0m\u001b[1;33m\u001b[0m\u001b[0m\n\u001b[0m\u001b[0;32m     91\u001b[0m \u001b[1;33m\u001b[0m\u001b[0m\n\u001b[0;32m     92\u001b[0m         \u001b[1;32mif\u001b[0m \u001b[0mname\u001b[0m \u001b[1;32mis\u001b[0m \u001b[1;32mNone\u001b[0m\u001b[1;33m:\u001b[0m\u001b[1;33m\u001b[0m\u001b[1;33m\u001b[0m\u001b[0m\n",
      "\u001b[1;31mValueError\u001b[0m: Argument(s) not recognized: {'lr': 0.0001}"
     ]
    }
   ],
   "source": [
    "emotion_model = Sequential()\n",
    "\n",
    "emotion_model.add(Conv2D(32, kernel_size=(3, 3), activation='relu', input_shape=(48, 48, 1)))\n",
    "emotion_model.add(Conv2D(64, kernel_size=(3, 3), activation='relu'))\n",
    "emotion_model.add(MaxPooling2D(pool_size=(2, 2)))\n",
    "emotion_model.add(Dropout(0.25))\n",
    "\n",
    "emotion_model.add(Conv2D(128, kernel_size=(3, 3), activation='relu'))\n",
    "emotion_model.add(MaxPooling2D(pool_size=(2, 2)))\n",
    "emotion_model.add(Conv2D(128, kernel_size=(3, 3), activation='relu'))\n",
    "emotion_model.add(MaxPooling2D(pool_size=(2, 2)))\n",
    "emotion_model.add(Dropout(0.25))\n",
    "\n",
    "emotion_model.add(Flatten())\n",
    "emotion_model.add(Dense(1024, activation='relu'))\n",
    "emotion_model.add(Dropout(0.5))\n",
    "emotion_model.add(Dense(7, activation='softmax'))\n",
    "\n",
    "#cv2.ocl.setUseOpenCL(False)\n",
    "\n",
    "emotion_model.compile(loss='categorical_crossentropy', optimizer=Adam(learning_rate=0.0001, decay=1e-6), metrics=['accuracy'])\n"
   ]
  },
  {
   "cell_type": "markdown",
   "id": "328a7e97",
   "metadata": {},
   "source": [
    "## Train the neural network model"
   ]
  },
  {
   "cell_type": "code",
   "execution_count": 18,
   "id": "31eadf31",
   "metadata": {},
   "outputs": [
    {
     "name": "stdout",
     "output_type": "stream",
     "text": [
      "Model: \"sequential\"\n",
      "_________________________________________________________________\n",
      " Layer (type)                Output Shape              Param #   \n",
      "=================================================================\n",
      " conv2d (Conv2D)             (None, 46, 46, 32)        320       \n",
      "                                                                 \n",
      " conv2d_1 (Conv2D)           (None, 44, 44, 64)        18496     \n",
      "                                                                 \n",
      " max_pooling2d (MaxPooling2D  (None, 22, 22, 64)       0         \n",
      " )                                                               \n",
      "                                                                 \n",
      " dropout (Dropout)           (None, 22, 22, 64)        0         \n",
      "                                                                 \n",
      " conv2d_2 (Conv2D)           (None, 20, 20, 128)       73856     \n",
      "                                                                 \n",
      " max_pooling2d_1 (MaxPooling  (None, 10, 10, 128)      0         \n",
      " 2D)                                                             \n",
      "                                                                 \n",
      " conv2d_3 (Conv2D)           (None, 8, 8, 128)         147584    \n",
      "                                                                 \n",
      " max_pooling2d_2 (MaxPooling  (None, 4, 4, 128)        0         \n",
      " 2D)                                                             \n",
      "                                                                 \n",
      " dropout_1 (Dropout)         (None, 4, 4, 128)         0         \n",
      "                                                                 \n",
      " flatten (Flatten)           (None, 2048)              0         \n",
      "                                                                 \n",
      " dense (Dense)               (None, 1024)              2098176   \n",
      "                                                                 \n",
      " dropout_2 (Dropout)         (None, 1024)              0         \n",
      "                                                                 \n",
      " dense_1 (Dense)             (None, 7)                 7175      \n",
      "                                                                 \n",
      "=================================================================\n",
      "Total params: 2,345,607\n",
      "Trainable params: 2,345,607\n",
      "Non-trainable params: 0\n",
      "_________________________________________________________________\n"
     ]
    }
   ],
   "source": [
    "emotion_model.summary()"
   ]
  },
  {
   "cell_type": "code",
   "execution_count": 10,
   "id": "dee4cf3e",
   "metadata": {},
   "outputs": [
    {
     "name": "stderr",
     "output_type": "stream",
     "text": [
      "C:\\Users\\UDAY\\AppData\\Local\\Temp/ipykernel_5572/3198193097.py:2: UserWarning: `Model.fit_generator` is deprecated and will be removed in a future version. Please use `Model.fit`, which supports generators.\n",
      "  emotion_model_info = emotion_model.fit_generator(\n"
     ]
    },
    {
     "name": "stdout",
     "output_type": "stream",
     "text": [
      "Epoch 1/50\n",
      "448/448 [==============================] - 420s 935ms/step - loss: 1.8034 - accuracy: 0.2596 - val_loss: 1.7128 - val_accuracy: 0.3347\n",
      "Epoch 2/50\n",
      "448/448 [==============================] - 121s 270ms/step - loss: 1.6350 - accuracy: 0.3626 - val_loss: 1.5475 - val_accuracy: 0.4120\n",
      "Epoch 3/50\n",
      "448/448 [==============================] - 129s 288ms/step - loss: 1.5362 - accuracy: 0.4115 - val_loss: 1.4883 - val_accuracy: 0.4308\n",
      "Epoch 4/50\n",
      "448/448 [==============================] - 122s 273ms/step - loss: 1.4731 - accuracy: 0.4373 - val_loss: 1.4125 - val_accuracy: 0.4580\n",
      "Epoch 5/50\n",
      "448/448 [==============================] - 124s 277ms/step - loss: 1.4146 - accuracy: 0.4609 - val_loss: 1.3665 - val_accuracy: 0.4823\n",
      "Epoch 6/50\n",
      "448/448 [==============================] - 131s 293ms/step - loss: 1.3642 - accuracy: 0.4822 - val_loss: 1.3275 - val_accuracy: 0.4993\n",
      "Epoch 7/50\n",
      "448/448 [==============================] - 128s 286ms/step - loss: 1.3208 - accuracy: 0.4990 - val_loss: 1.2994 - val_accuracy: 0.5043\n",
      "Epoch 8/50\n",
      "448/448 [==============================] - 127s 284ms/step - loss: 1.2854 - accuracy: 0.5164 - val_loss: 1.2748 - val_accuracy: 0.5155\n",
      "Epoch 9/50\n",
      "448/448 [==============================] - 129s 287ms/step - loss: 1.2456 - accuracy: 0.5313 - val_loss: 1.2362 - val_accuracy: 0.5312\n",
      "Epoch 10/50\n",
      "448/448 [==============================] - 128s 286ms/step - loss: 1.2184 - accuracy: 0.5408 - val_loss: 1.2097 - val_accuracy: 0.5360\n",
      "Epoch 11/50\n",
      "448/448 [==============================] - 132s 293ms/step - loss: 1.1886 - accuracy: 0.5523 - val_loss: 1.1912 - val_accuracy: 0.5449\n",
      "Epoch 12/50\n",
      "448/448 [==============================] - 143s 318ms/step - loss: 1.1641 - accuracy: 0.5640 - val_loss: 1.1745 - val_accuracy: 0.5512\n",
      "Epoch 13/50\n",
      "448/448 [==============================] - 130s 289ms/step - loss: 1.1344 - accuracy: 0.5754 - val_loss: 1.1733 - val_accuracy: 0.5516\n",
      "Epoch 14/50\n",
      "448/448 [==============================] - 124s 276ms/step - loss: 1.1101 - accuracy: 0.5847 - val_loss: 1.1499 - val_accuracy: 0.5650\n",
      "Epoch 15/50\n",
      "448/448 [==============================] - 111s 248ms/step - loss: 1.0857 - accuracy: 0.5929 - val_loss: 1.1466 - val_accuracy: 0.5650\n",
      "Epoch 16/50\n",
      "448/448 [==============================] - 121s 270ms/step - loss: 1.0604 - accuracy: 0.6052 - val_loss: 1.1260 - val_accuracy: 0.5756\n",
      "Epoch 17/50\n",
      "448/448 [==============================] - 136s 303ms/step - loss: 1.0381 - accuracy: 0.6135 - val_loss: 1.1297 - val_accuracy: 0.5702\n",
      "Epoch 18/50\n",
      "448/448 [==============================] - 127s 283ms/step - loss: 1.0146 - accuracy: 0.6254 - val_loss: 1.1174 - val_accuracy: 0.5734\n",
      "Epoch 19/50\n",
      "448/448 [==============================] - 106s 237ms/step - loss: 0.9901 - accuracy: 0.6349 - val_loss: 1.1149 - val_accuracy: 0.5802\n",
      "Epoch 20/50\n",
      "448/448 [==============================] - 109s 242ms/step - loss: 0.9685 - accuracy: 0.6414 - val_loss: 1.0989 - val_accuracy: 0.5844\n",
      "Epoch 21/50\n",
      "448/448 [==============================] - 102s 228ms/step - loss: 0.9431 - accuracy: 0.6503 - val_loss: 1.0903 - val_accuracy: 0.5922\n",
      "Epoch 22/50\n",
      "448/448 [==============================] - 105s 234ms/step - loss: 0.9212 - accuracy: 0.6580 - val_loss: 1.0981 - val_accuracy: 0.5919\n",
      "Epoch 23/50\n",
      "448/448 [==============================] - 103s 231ms/step - loss: 0.8976 - accuracy: 0.6692 - val_loss: 1.0828 - val_accuracy: 0.5942\n",
      "Epoch 24/50\n",
      "448/448 [==============================] - 117s 260ms/step - loss: 0.8802 - accuracy: 0.6764 - val_loss: 1.0832 - val_accuracy: 0.5931\n",
      "Epoch 25/50\n",
      "448/448 [==============================] - 106s 235ms/step - loss: 0.8502 - accuracy: 0.6859 - val_loss: 1.0775 - val_accuracy: 0.6030\n",
      "Epoch 26/50\n",
      "448/448 [==============================] - 124s 277ms/step - loss: 0.8299 - accuracy: 0.6982 - val_loss: 1.0861 - val_accuracy: 0.6002\n",
      "Epoch 27/50\n",
      "448/448 [==============================] - 120s 268ms/step - loss: 0.8024 - accuracy: 0.7047 - val_loss: 1.0809 - val_accuracy: 0.6095\n",
      "Epoch 28/50\n",
      "448/448 [==============================] - 129s 289ms/step - loss: 0.7813 - accuracy: 0.7166 - val_loss: 1.0687 - val_accuracy: 0.6104\n",
      "Epoch 29/50\n",
      "448/448 [==============================] - 108s 242ms/step - loss: 0.7609 - accuracy: 0.7212 - val_loss: 1.0738 - val_accuracy: 0.6098\n",
      "Epoch 30/50\n",
      "448/448 [==============================] - 105s 234ms/step - loss: 0.7433 - accuracy: 0.7293 - val_loss: 1.0815 - val_accuracy: 0.6094\n",
      "Epoch 31/50\n",
      "448/448 [==============================] - 103s 230ms/step - loss: 0.7100 - accuracy: 0.7423 - val_loss: 1.0777 - val_accuracy: 0.6109\n",
      "Epoch 32/50\n",
      "448/448 [==============================] - 104s 233ms/step - loss: 0.6961 - accuracy: 0.7447 - val_loss: 1.0949 - val_accuracy: 0.6101\n",
      "Epoch 33/50\n",
      "448/448 [==============================] - 106s 238ms/step - loss: 0.6773 - accuracy: 0.7555 - val_loss: 1.0957 - val_accuracy: 0.6101\n",
      "Epoch 34/50\n",
      "448/448 [==============================] - 129s 288ms/step - loss: 0.6467 - accuracy: 0.7649 - val_loss: 1.0904 - val_accuracy: 0.6145\n",
      "Epoch 35/50\n",
      "448/448 [==============================] - 129s 288ms/step - loss: 0.6305 - accuracy: 0.7692 - val_loss: 1.0990 - val_accuracy: 0.6138\n",
      "Epoch 36/50\n",
      "448/448 [==============================] - 110s 245ms/step - loss: 0.6104 - accuracy: 0.7795 - val_loss: 1.1095 - val_accuracy: 0.6145\n",
      "Epoch 37/50\n",
      "448/448 [==============================] - 200s 446ms/step - loss: 0.5878 - accuracy: 0.7873 - val_loss: 1.1220 - val_accuracy: 0.6094\n",
      "Epoch 38/50\n",
      "448/448 [==============================] - 109s 242ms/step - loss: 0.5698 - accuracy: 0.7958 - val_loss: 1.1155 - val_accuracy: 0.6183\n",
      "Epoch 39/50\n",
      "448/448 [==============================] - 102s 229ms/step - loss: 0.5520 - accuracy: 0.8022 - val_loss: 1.1250 - val_accuracy: 0.6112\n",
      "Epoch 40/50\n",
      "448/448 [==============================] - 109s 243ms/step - loss: 0.5347 - accuracy: 0.8074 - val_loss: 1.1381 - val_accuracy: 0.6131\n",
      "Epoch 41/50\n",
      "448/448 [==============================] - 112s 250ms/step - loss: 0.5115 - accuracy: 0.8170 - val_loss: 1.1533 - val_accuracy: 0.6166\n",
      "Epoch 42/50\n",
      "448/448 [==============================] - 109s 242ms/step - loss: 0.5052 - accuracy: 0.8191 - val_loss: 1.1349 - val_accuracy: 0.6204\n",
      "Epoch 43/50\n",
      "448/448 [==============================] - 104s 232ms/step - loss: 0.4860 - accuracy: 0.8243 - val_loss: 1.1722 - val_accuracy: 0.6166\n",
      "Epoch 44/50\n",
      "448/448 [==============================] - 106s 238ms/step - loss: 0.4665 - accuracy: 0.8325 - val_loss: 1.1646 - val_accuracy: 0.6191\n",
      "Epoch 45/50\n",
      "448/448 [==============================] - 108s 241ms/step - loss: 0.4519 - accuracy: 0.8352 - val_loss: 1.1933 - val_accuracy: 0.6219\n",
      "Epoch 46/50\n",
      "448/448 [==============================] - 111s 247ms/step - loss: 0.4350 - accuracy: 0.8443 - val_loss: 1.1951 - val_accuracy: 0.6208\n",
      "Epoch 47/50\n",
      "448/448 [==============================] - 108s 241ms/step - loss: 0.4258 - accuracy: 0.8449 - val_loss: 1.1959 - val_accuracy: 0.6176\n",
      "Epoch 48/50\n",
      "448/448 [==============================] - 108s 241ms/step - loss: 0.4196 - accuracy: 0.8483 - val_loss: 1.2106 - val_accuracy: 0.6204\n",
      "Epoch 49/50\n",
      "448/448 [==============================] - 116s 260ms/step - loss: 0.3976 - accuracy: 0.8581 - val_loss: 1.2187 - val_accuracy: 0.6222\n",
      "Epoch 50/50\n",
      "448/448 [==============================] - 109s 243ms/step - loss: 0.3910 - accuracy: 0.8595 - val_loss: 1.2105 - val_accuracy: 0.6162\n"
     ]
    }
   ],
   "source": [
    "emotion_model_info = emotion_model.fit_generator(\n",
    "        train_generator,\n",
    "        steps_per_epoch=28709 // 64,\n",
    "        epochs=50,\n",
    "        validation_data=validation_generator,\n",
    "        validation_steps=7178 // 64)"
   ]
  },
  {
   "cell_type": "markdown",
   "id": "c4e65b02",
   "metadata": {},
   "source": [
    "## Save model structure in json file"
   ]
  },
  {
   "cell_type": "code",
   "execution_count": 12,
   "id": "675d66bb",
   "metadata": {},
   "outputs": [],
   "source": [
    "model_json = emotion_model.to_json()\n",
    "with open(\"emotion_modelnew1.json\", \"w\") as json_file:\n",
    "    json_file.write(model_json)"
   ]
  },
  {
   "cell_type": "markdown",
   "id": "f5bd8491",
   "metadata": {},
   "source": [
    "## Save trained model weight in .h5 file"
   ]
  },
  {
   "cell_type": "code",
   "execution_count": 13,
   "id": "2bee13c3",
   "metadata": {},
   "outputs": [],
   "source": [
    "emotion_model.save_weights('emotion_modelnew1.h5')"
   ]
  },
  {
   "cell_type": "code",
   "execution_count": null,
   "id": "2bdfe2a5",
   "metadata": {},
   "outputs": [],
   "source": []
  },
  {
   "cell_type": "code",
   "execution_count": null,
   "id": "f17f3d0e",
   "metadata": {},
   "outputs": [],
   "source": []
  },
  {
   "cell_type": "code",
   "execution_count": null,
   "id": "9afd2903",
   "metadata": {},
   "outputs": [],
   "source": []
  },
  {
   "cell_type": "code",
   "execution_count": null,
   "id": "71f0cd6c",
   "metadata": {},
   "outputs": [],
   "source": []
  },
  {
   "cell_type": "code",
   "execution_count": null,
   "id": "ee776c29",
   "metadata": {},
   "outputs": [],
   "source": []
  },
  {
   "cell_type": "code",
   "execution_count": null,
   "id": "63bd3e88",
   "metadata": {},
   "outputs": [],
   "source": []
  },
  {
   "cell_type": "code",
   "execution_count": null,
   "id": "4853b73f",
   "metadata": {},
   "outputs": [],
   "source": []
  }
 ],
 "metadata": {
  "kernelspec": {
   "display_name": "Python 3 (ipykernel)",
   "language": "python",
   "name": "python3"
  },
  "language_info": {
   "codemirror_mode": {
    "name": "ipython",
    "version": 3
   },
   "file_extension": ".py",
   "mimetype": "text/x-python",
   "name": "python",
   "nbconvert_exporter": "python",
   "pygments_lexer": "ipython3",
   "version": "3.9.7"
  }
 },
 "nbformat": 4,
 "nbformat_minor": 5
}
